{
 "cells": [
  {
   "cell_type": "markdown",
   "metadata": {
    "toc": true
   },
   "source": [
    "<h1>Table of Contents<span class=\"tocSkip\"></span></h1>\n",
    "<div class=\"toc\"><ul class=\"toc-item\"><li><span><a href=\"#Data-pre-processing\" data-toc-modified-id=\"Data-pre-processing-1\"><span class=\"toc-item-num\">1&nbsp;&nbsp;</span>Data pre-processing</a></span><ul class=\"toc-item\"><li><span><a href=\"#Load-data\" data-toc-modified-id=\"Load-data-1.1\"><span class=\"toc-item-num\">1.1&nbsp;&nbsp;</span>Load data</a></span></li><li><span><a href=\"#Check-missing-data\" data-toc-modified-id=\"Check-missing-data-1.2\"><span class=\"toc-item-num\">1.2&nbsp;&nbsp;</span>Check missing data</a></span></li><li><span><a href=\"#Number-of-users-in-each-file\" data-toc-modified-id=\"Number-of-users-in-each-file-1.3\"><span class=\"toc-item-num\">1.3&nbsp;&nbsp;</span>Number of users in each file</a></span></li><li><span><a href=\"#Get-profile-report-for-notifications_allowed\" data-toc-modified-id=\"Get-profile-report-for-notifications_allowed-1.4\"><span class=\"toc-item-num\">1.4&nbsp;&nbsp;</span>Get profile report for notifications_allowed</a></span></li><li><span><a href=\"#Merge-files\" data-toc-modified-id=\"Merge-files-1.5\"><span class=\"toc-item-num\">1.5&nbsp;&nbsp;</span>Merge files</a></span></li><li><span><a href=\"#Total-number-of-observations\" data-toc-modified-id=\"Total-number-of-observations-1.6\"><span class=\"toc-item-num\">1.6&nbsp;&nbsp;</span>Total number of observations</a></span></li><li><span><a href=\"#Split-data-according-to-which-group-of-users-belong\" data-toc-modified-id=\"Split-data-according-to-which-group-of-users-belong-1.7\"><span class=\"toc-item-num\">1.7&nbsp;&nbsp;</span>Split data according to which group of users belong</a></span></li><li><span><a href=\"#What-features-(columns)-do-we-have?\" data-toc-modified-id=\"What-features-(columns)-do-we-have?-1.8\"><span class=\"toc-item-num\">1.8&nbsp;&nbsp;</span>What features (columns) do we have?</a></span></li></ul></li><li><span><a href=\"#Optimization-metrics\" data-toc-modified-id=\"Optimization-metrics-2\"><span class=\"toc-item-num\">2&nbsp;&nbsp;</span>Optimization metrics</a></span><ul class=\"toc-item\"><li><span><a href=\"#Hit-rate\" data-toc-modified-id=\"Hit-rate-2.1\"><span class=\"toc-item-num\">2.1&nbsp;&nbsp;</span>Hit rate</a></span></li><li><span><a href=\"#Retention-rate\" data-toc-modified-id=\"Retention-rate-2.2\"><span class=\"toc-item-num\">2.2&nbsp;&nbsp;</span>Retention rate</a></span></li></ul></li><li><span><a href=\"#Save-dataframes\" data-toc-modified-id=\"Save-dataframes-3\"><span class=\"toc-item-num\">3&nbsp;&nbsp;</span>Save dataframes</a></span></li></ul></div>"
   ]
  },
  {
   "cell_type": "markdown",
   "metadata": {},
   "source": [
    "# Data preparation"
   ]
  },
  {
   "cell_type": "markdown",
   "metadata": {},
   "source": [
    "### Data pre-processing"
   ]
  },
  {
   "cell_type": "code",
   "execution_count": 1,
   "metadata": {
    "ExecuteTime": {
     "end_time": "2020-09-19T09:51:01.774060Z",
     "start_time": "2020-09-19T09:51:00.634560Z"
    }
   },
   "outputs": [],
   "source": [
    "import pandas as pd # used for data storage\n",
    "import numpy as np # used for data calculations\n",
    "import pandas_profiling as profil # used for data summary\n",
    "\n",
    "pd.set_option('display.max_columns', 500) # maximum number of columns to be shown\n",
    "pd.set_option('display.max_rows', 500) # maximum number of rows to be shown "
   ]
  },
  {
   "cell_type": "markdown",
   "metadata": {},
   "source": [
    "#### Load data"
   ]
  },
  {
   "cell_type": "code",
   "execution_count": 2,
   "metadata": {
    "ExecuteTime": {
     "end_time": "2020-09-19T09:51:02.756777Z",
     "start_time": "2020-09-19T09:51:01.775290Z"
    }
   },
   "outputs": [],
   "source": [
    "notification_allowed = pd.read_csv(\"notification_allowed.csv\")\n",
    "user_history = pd.read_csv(\"user_history.csv\")"
   ]
  },
  {
   "cell_type": "markdown",
   "metadata": {},
   "source": [
    "#### Check missing data"
   ]
  },
  {
   "cell_type": "code",
   "execution_count": 3,
   "metadata": {
    "ExecuteTime": {
     "end_time": "2020-09-19T09:51:02.794527Z",
     "start_time": "2020-09-19T09:51:02.758458Z"
    }
   },
   "outputs": [
    {
     "data": {
      "text/plain": [
       "(False, False)"
      ]
     },
     "execution_count": 3,
     "metadata": {},
     "output_type": "execute_result"
    }
   ],
   "source": [
    "notification_allowed.isnull().values.any(), user_history.isnull().values.any()"
   ]
  },
  {
   "cell_type": "markdown",
   "metadata": {},
   "source": [
    "#### Number of users in each file"
   ]
  },
  {
   "cell_type": "code",
   "execution_count": 4,
   "metadata": {
    "ExecuteTime": {
     "end_time": "2020-09-19T09:51:02.803785Z",
     "start_time": "2020-09-19T09:51:02.797272Z"
    }
   },
   "outputs": [
    {
     "data": {
      "text/plain": [
       "(3859, 4979)"
      ]
     },
     "execution_count": 4,
     "metadata": {},
     "output_type": "execute_result"
    }
   ],
   "source": [
    "len(notification_allowed.login_id.unique()), len(user_history.login_id.unique())"
   ]
  },
  {
   "cell_type": "markdown",
   "metadata": {},
   "source": [
    "#### Get profile report for notifications_allowed"
   ]
  },
  {
   "cell_type": "code",
   "execution_count": 5,
   "metadata": {
    "ExecuteTime": {
     "end_time": "2020-09-19T09:51:08.308181Z",
     "start_time": "2020-09-19T09:51:02.804924Z"
    }
   },
   "outputs": [],
   "source": [
    "notification_profile = profil.ProfileReport(notification_allowed, \n",
    "                                     title=\"Allowed Notification Report\")"
   ]
  },
  {
   "cell_type": "markdown",
   "metadata": {},
   "source": [
    "#### Merge files\n",
    "__user_history__ contains more users than __notification_allowed__, so this two dataframes needs\n",
    "to be merged for further AB test analysis "
   ]
  },
  {
   "cell_type": "code",
   "execution_count": 6,
   "metadata": {
    "ExecuteTime": {
     "end_time": "2020-09-19T09:51:08.555231Z",
     "start_time": "2020-09-19T09:51:08.310354Z"
    }
   },
   "outputs": [],
   "source": [
    "user_data = notification_allowed.merge(user_history, on=['login_id', 'date_id'], how=\"outer\")"
   ]
  },
  {
   "cell_type": "markdown",
   "metadata": {},
   "source": [
    "#### Total number of observations"
   ]
  },
  {
   "cell_type": "code",
   "execution_count": 7,
   "metadata": {
    "ExecuteTime": {
     "end_time": "2020-09-19T09:51:08.560095Z",
     "start_time": "2020-09-19T09:51:08.556288Z"
    }
   },
   "outputs": [
    {
     "data": {
      "text/plain": [
       "122459"
      ]
     },
     "execution_count": 7,
     "metadata": {},
     "output_type": "execute_result"
    }
   ],
   "source": [
    "len(user_data)"
   ]
  },
  {
   "cell_type": "markdown",
   "metadata": {},
   "source": [
    "#### Split data according to which group of users belong\n",
    "- Add column 'group' (for control and test group, in this task group_1 and group_2)\n",
    "\n",
    "- group_1 consists of users with even login_id\n",
    "\n",
    "- group_2 consists of users with odd login_id"
   ]
  },
  {
   "cell_type": "code",
   "execution_count": 8,
   "metadata": {
    "ExecuteTime": {
     "end_time": "2020-09-19T09:51:08.679417Z",
     "start_time": "2020-09-19T09:51:08.563178Z"
    }
   },
   "outputs": [],
   "source": [
    "user_data[\"group\"] = np.nan\n",
    "user_data.loc[user_data['login_id'] % 2 == 0, \"group\"] = 'group_1'\n",
    "user_data.loc[user_data['login_id'] % 2 == 1, \"group\"] = 'group_2'"
   ]
  },
  {
   "cell_type": "markdown",
   "metadata": {},
   "source": [
    "#### What features (columns) do we have?"
   ]
  },
  {
   "cell_type": "code",
   "execution_count": 9,
   "metadata": {
    "ExecuteTime": {
     "end_time": "2020-09-19T09:51:08.684331Z",
     "start_time": "2020-09-19T09:51:08.681085Z"
    }
   },
   "outputs": [
    {
     "data": {
      "text/plain": [
       "Index(['login_id', 'time', 'allowed_notifications', 'date_id',\n",
       "       'registration_date_id', 'registration_channel', 'registration_country',\n",
       "       'payer', 'dau', 'sessions_count', 'playtime', 'last_login_day',\n",
       "       'days_active_last_7_days', 'cohort_size', 'elo_rating', 'arena_level',\n",
       "       'gold', 'runes_stash_class1_tier1', 'runes_stash_class2_tier1',\n",
       "       'runes_stash_class3_tier1', 'runes_stash_tier2', 'spell_runes_stash',\n",
       "       'hero_dust', 'item_dust', 'gold_gained_total', 'gold_bought_total',\n",
       "       'gold_spent_total', 'runes_gained_total_class1_tier1',\n",
       "       'runes_gained_total_class2_tier1', 'runes_gained_total_class3_tier1',\n",
       "       'runes_gained_total_tier_2', 'spell_runes_gained_total',\n",
       "       'runes_spent_class1_tier1', 'runes_spent_class2_tier1',\n",
       "       'runes_spent_class3_tier1', 'runes_spent_total_tier2',\n",
       "       'spell_runes_spent_total', 'hero_dust_spent_total',\n",
       "       'hero_dust_gained_total', 'tokens', 'tokens_gained_total',\n",
       "       'enter_queue_count', 'battles_played', 'battles_won',\n",
       "       'battles_played_total', 'battles_won_total', 'heroes_unlocked',\n",
       "       'heroes_level', 'hero_shards', 'minion_upgrades',\n",
       "       'free_chests_opened_total', 'silver_chests_opened_total',\n",
       "       'golden_chests_opened_total', 'magical_chests_opened_total',\n",
       "       'victory_chests_opened_total', 'pvp_event_small_chest_small',\n",
       "       'pvp_event_small_chest_medium', 'pvp_event_small_chest_large',\n",
       "       'pvp_event_big_chest_small', 'pvp_event_big_chest_medium',\n",
       "       'pvp_event_big_chest_large', 'cards_gained_total',\n",
       "       'minion_cards_gained_common_total', 'minion_cards_gained_rare_total',\n",
       "       'minion_cards_gained_epic_total', 'minion_cards_gained_legendary_total',\n",
       "       'spell_cards_gained_common_total', 'spell_cards_gained_rare_total',\n",
       "       'spell_cards_gained_epic_total', 'spell_cards_gained_legendary_total',\n",
       "       'campaign_tickets', 'max_campaign_level', 'equipment_bonus',\n",
       "       'campaign_battles', 'campaign_battles_total', 'event_battles',\n",
       "       'event_battles_total', 'event_tokens', 'group_points', 'lives_spent',\n",
       "       'milestone_points', 'group'],\n",
       "      dtype='object')"
      ]
     },
     "execution_count": 9,
     "metadata": {},
     "output_type": "execute_result"
    }
   ],
   "source": [
    "user_data.columns"
   ]
  },
  {
   "cell_type": "markdown",
   "metadata": {},
   "source": [
    "### Optimization metrics"
   ]
  },
  {
   "cell_type": "markdown",
   "metadata": {},
   "source": [
    "#### Hit rate\n",
    "- Use only neccessary columns for hit rate processing\n",
    "\n",
    "- Remove duplicated rows\n",
    "\n",
    "- Remove row for users who have more than 1 row (2 rows).\n",
    "\n",
    "(Note: The last task is because of outer merging. If one user appears in 2 rows, that means user have NaN and True or False in 'allowed_notification' column. In that case, row with NaN is redundant, so it should be removed)"
   ]
  },
  {
   "cell_type": "code",
   "execution_count": 13,
   "metadata": {
    "ExecuteTime": {
     "end_time": "2020-09-19T10:38:01.463350Z",
     "start_time": "2020-09-19T10:38:01.372479Z"
    }
   },
   "outputs": [],
   "source": [
    "users_hit_rate = user_data[[\"login_id\", \"allowed_notifications\", \"battles_played_total\",\n",
    "                            \"battles_played\", \"payer\", \"date_id\", \"dau\", \"group\"]].drop_duplicates()\n",
    "duplicated_users = users_hit_rate.groupby(\"login_id\").agg(\"login_id\").count().sort_values(ascending=False)\n",
    "duplicated_users = duplicated_users[duplicated_users == 2].index\n",
    "\n",
    "users_hit_rate.drop(users_hit_rate[(users_hit_rate[\"login_id\"].isin(duplicated_users)) & \n",
    "                                   (users_hit_rate[\"allowed_notifications\"].isnull())].index,\n",
    "                   inplace=True)"
   ]
  },
  {
   "cell_type": "markdown",
   "metadata": {},
   "source": [
    "#### Retention rate\n",
    "- Add column that is neccessary for calculating retention\n",
    "\n",
    "- Use only neccessary columns for retention rate processing"
   ]
  },
  {
   "cell_type": "code",
   "execution_count": 11,
   "metadata": {
    "ExecuteTime": {
     "end_time": "2020-09-19T09:51:08.817613Z",
     "start_time": "2020-09-19T09:51:08.752972Z"
    }
   },
   "outputs": [],
   "source": [
    "user_data['retention'] = user_data['date_id'] - user_data['registration_date_id']\n",
    "users_retention_rate = user_data[[\"login_id\", \"retention\", \"dau\", \"group\"]]"
   ]
  },
  {
   "cell_type": "markdown",
   "metadata": {},
   "source": [
    "### Save dataframes"
   ]
  },
  {
   "cell_type": "code",
   "execution_count": 14,
   "metadata": {
    "ExecuteTime": {
     "end_time": "2020-09-19T10:38:20.218632Z",
     "start_time": "2020-09-19T10:38:13.175850Z"
    }
   },
   "outputs": [],
   "source": [
    "user_data.to_csv('user_data.csv', index=False)\n",
    "users_hit_rate.to_csv('users_hit_rate.csv', index=False)\n",
    "users_retention_rate.to_csv('users_retention_rate.csv', index=False)"
   ]
  },
  {
   "cell_type": "code",
   "execution_count": null,
   "metadata": {},
   "outputs": [],
   "source": []
  }
 ],
 "metadata": {
  "kernelspec": {
   "display_name": "Python 3",
   "language": "python",
   "name": "python3"
  },
  "language_info": {
   "codemirror_mode": {
    "name": "ipython",
    "version": 3
   },
   "file_extension": ".py",
   "mimetype": "text/x-python",
   "name": "python",
   "nbconvert_exporter": "python",
   "pygments_lexer": "ipython3",
   "version": "3.7.3"
  },
  "latex_envs": {
   "LaTeX_envs_menu_present": true,
   "autoclose": false,
   "autocomplete": true,
   "bibliofile": "biblio.bib",
   "cite_by": "apalike",
   "current_citInitial": 1,
   "eqLabelWithNumbers": true,
   "eqNumInitial": 1,
   "hotkeys": {
    "equation": "Ctrl-E",
    "itemize": "Ctrl-I"
   },
   "labels_anchors": false,
   "latex_user_defs": false,
   "report_style_numbering": false,
   "user_envs_cfg": false
  },
  "toc": {
   "base_numbering": 1,
   "nav_menu": {},
   "number_sections": true,
   "sideBar": true,
   "skip_h1_title": true,
   "title_cell": "Table of Contents",
   "title_sidebar": "Contents",
   "toc_cell": true,
   "toc_position": {},
   "toc_section_display": true,
   "toc_window_display": true
  },
  "varInspector": {
   "cols": {
    "lenName": 16,
    "lenType": 16,
    "lenVar": 40
   },
   "kernels_config": {
    "python": {
     "delete_cmd_postfix": "",
     "delete_cmd_prefix": "del ",
     "library": "var_list.py",
     "varRefreshCmd": "print(var_dic_list())"
    },
    "r": {
     "delete_cmd_postfix": ") ",
     "delete_cmd_prefix": "rm(",
     "library": "var_list.r",
     "varRefreshCmd": "cat(var_dic_list()) "
    }
   },
   "types_to_exclude": [
    "module",
    "function",
    "builtin_function_or_method",
    "instance",
    "_Feature"
   ],
   "window_display": false
  }
 },
 "nbformat": 4,
 "nbformat_minor": 4
}
