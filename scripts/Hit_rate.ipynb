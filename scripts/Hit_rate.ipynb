{
 "cells": [
  {
   "cell_type": "markdown",
   "metadata": {
    "toc": true
   },
   "source": [
    "<h1>Table of Contents<span class=\"tocSkip\"></span></h1>\n",
    "<div class=\"toc\"><ul class=\"toc-item\"><li><span><a href=\"#Data-pre-processing\" data-toc-modified-id=\"Data-pre-processing-1\"><span class=\"toc-item-num\">1&nbsp;&nbsp;</span>Data pre-processing</a></span><ul class=\"toc-item\"><li><span><a href=\"#Import-libraries\" data-toc-modified-id=\"Import-libraries-1.1\"><span class=\"toc-item-num\">1.1&nbsp;&nbsp;</span>Import libraries</a></span></li><li><span><a href=\"#Make-plots-nicer-with-some-configuration\" data-toc-modified-id=\"Make-plots-nicer-with-some-configuration-1.2\"><span class=\"toc-item-num\">1.2&nbsp;&nbsp;</span>Make plots nicer with some configuration</a></span></li><li><span><a href=\"#Load-data\" data-toc-modified-id=\"Load-data-1.3\"><span class=\"toc-item-num\">1.3&nbsp;&nbsp;</span>Load data</a></span></li><li><span><a href=\"#Split-users-into-groups-(2-distinct-dataframes)\" data-toc-modified-id=\"Split-users-into-groups-(2-distinct-dataframes)-1.4\"><span class=\"toc-item-num\">1.4&nbsp;&nbsp;</span>Split users into groups (2 distinct dataframes)</a></span></li><li><span><a href=\"#Check-number-of-users-in-each-group\" data-toc-modified-id=\"Check-number-of-users-in-each-group-1.5\"><span class=\"toc-item-num\">1.5&nbsp;&nbsp;</span>Check number of users in each group</a></span></li><li><span><a href=\"#Check-number-of-received-answers-for-notifications\" data-toc-modified-id=\"Check-number-of-received-answers-for-notifications-1.6\"><span class=\"toc-item-num\">1.6&nbsp;&nbsp;</span>Check number of received answers for notifications</a></span></li><li><span><a href=\"#Check-allowed-notifications-for-each-group\" data-toc-modified-id=\"Check-allowed-notifications-for-each-group-1.7\"><span class=\"toc-item-num\">1.7&nbsp;&nbsp;</span>Check allowed notifications for each group</a></span></li><li><span><a href=\"#Calculate-hit-rate-on-provided-samples-for-each-group\" data-toc-modified-id=\"Calculate-hit-rate-on-provided-samples-for-each-group-1.8\"><span class=\"toc-item-num\">1.8&nbsp;&nbsp;</span>Calculate hit rate on provided samples for each group</a></span></li></ul></li><li><span><a href=\"#AB-test-approaches\" data-toc-modified-id=\"AB-test-approaches-2\"><span class=\"toc-item-num\">2&nbsp;&nbsp;</span>AB test approaches</a></span><ul class=\"toc-item\"><li><span><a href=\"#Hit-rate-modeling\" data-toc-modified-id=\"Hit-rate-modeling-2.1\"><span class=\"toc-item-num\">2.1&nbsp;&nbsp;</span>Hit rate modeling</a></span><ul class=\"toc-item\"><li><span><a href=\"#Probability-mass-function-for-each-group\" data-toc-modified-id=\"Probability-mass-function-for-each-group-2.1.1\"><span class=\"toc-item-num\">2.1.1&nbsp;&nbsp;</span>Probability mass function for each group</a></span></li></ul></li><li><span><a href=\"#Parametric-tests\" data-toc-modified-id=\"Parametric-tests-2.2\"><span class=\"toc-item-num\">2.2&nbsp;&nbsp;</span>Parametric tests</a></span><ul class=\"toc-item\"><li><span><a href=\"#Normal-distribution-approximation\" data-toc-modified-id=\"Normal-distribution-approximation-2.2.1\"><span class=\"toc-item-num\">2.2.1&nbsp;&nbsp;</span>Normal distribution approximation</a></span><ul class=\"toc-item\"><li><span><a href=\"#Calculate-minimum-sample-size-required-for-both-groups\" data-toc-modified-id=\"Calculate-minimum-sample-size-required-for-both-groups-2.2.1.1\"><span class=\"toc-item-num\">2.2.1.1&nbsp;&nbsp;</span>Calculate minimum sample size required for both groups</a></span></li><li><span><a href=\"#Plot-probability-density-functions\" data-toc-modified-id=\"Plot-probability-density-functions-2.2.1.2\"><span class=\"toc-item-num\">2.2.1.2&nbsp;&nbsp;</span>Plot probability density functions</a></span></li><li><span><a href=\"#Calculate-z-score,-p-value-and-plot-distribution-of-difference\" data-toc-modified-id=\"Calculate-z-score,-p-value-and-plot-distribution-of-difference-2.2.1.3\"><span class=\"toc-item-num\">2.2.1.3&nbsp;&nbsp;</span>Calculate z-score, p-value and plot distribution of difference</a></span></li></ul></li><li><span><a href=\"#Confidence-intervals\" data-toc-modified-id=\"Confidence-intervals-2.2.2\"><span class=\"toc-item-num\">2.2.2&nbsp;&nbsp;</span>Confidence intervals</a></span><ul class=\"toc-item\"><li><span><a href=\"#Calculate-confidence-intervals-for-each-group-manually\" data-toc-modified-id=\"Calculate-confidence-intervals-for-each-group-manually-2.2.2.1\"><span class=\"toc-item-num\">2.2.2.1&nbsp;&nbsp;</span>Calculate confidence intervals for each group manually</a></span></li><li><span><a href=\"#Calculate-confidence-intervals-for-each-group-with-proportion_confint-method\" data-toc-modified-id=\"Calculate-confidence-intervals-for-each-group-with-proportion_confint-method-2.2.2.2\"><span class=\"toc-item-num\">2.2.2.2&nbsp;&nbsp;</span>Calculate confidence intervals for each group with <code>proportion_confint</code> method</a></span></li></ul></li></ul></li><li><span><a href=\"#Non-parametric-tests\" data-toc-modified-id=\"Non-parametric-tests-2.3\"><span class=\"toc-item-num\">2.3&nbsp;&nbsp;</span>Non-parametric tests</a></span><ul class=\"toc-item\"><li><span><a href=\"#$\\chi^2$-test\" data-toc-modified-id=\"$\\chi^2$-test-2.3.1\"><span class=\"toc-item-num\">2.3.1&nbsp;&nbsp;</span>$\\chi^2$ test</a></span><ul class=\"toc-item\"><li><span><a href=\"#Calculate-contigency-table\" data-toc-modified-id=\"Calculate-contigency-table-2.3.1.1\"><span class=\"toc-item-num\">2.3.1.1&nbsp;&nbsp;</span>Calculate contigency table</a></span></li><li><span><a href=\"#Calculate-test-statistic\" data-toc-modified-id=\"Calculate-test-statistic-2.3.1.2\"><span class=\"toc-item-num\">2.3.1.2&nbsp;&nbsp;</span>Calculate test statistic</a></span></li><li><span><a href=\"#Calculate-degrees-of-fredoom\" data-toc-modified-id=\"Calculate-degrees-of-fredoom-2.3.1.3\"><span class=\"toc-item-num\">2.3.1.3&nbsp;&nbsp;</span>Calculate degrees of fredoom</a></span></li><li><span><a href=\"#Derive-the-critical-value\" data-toc-modified-id=\"Derive-the-critical-value-2.3.1.4\"><span class=\"toc-item-num\">2.3.1.4&nbsp;&nbsp;</span>Derive the critical value</a></span></li><li><span><a href=\"#Compute-the-p-value\" data-toc-modified-id=\"Compute-the-p-value-2.3.1.5\"><span class=\"toc-item-num\">2.3.1.5&nbsp;&nbsp;</span>Compute the p-value</a></span></li><li><span><a href=\"#Verify-this-results-with-chi2_contingency-method\" data-toc-modified-id=\"Verify-this-results-with-chi2_contingency-method-2.3.1.6\"><span class=\"toc-item-num\">2.3.1.6&nbsp;&nbsp;</span>Verify this results with <code>chi2_contingency</code> method</a></span></li><li><span><a href=\"#Compute-the-magnitude-of-the-effect-size\" data-toc-modified-id=\"Compute-the-magnitude-of-the-effect-size-2.3.1.7\"><span class=\"toc-item-num\">2.3.1.7&nbsp;&nbsp;</span>Compute the magnitude of the effect size</a></span></li></ul></li><li><span><a href=\"#Fisher's-exact-test\" data-toc-modified-id=\"Fisher's-exact-test-2.3.2\"><span class=\"toc-item-num\">2.3.2&nbsp;&nbsp;</span>Fisher's exact test</a></span></li></ul></li></ul></li><li><span><a href=\"#Conclusion\" data-toc-modified-id=\"Conclusion-3\"><span class=\"toc-item-num\">3&nbsp;&nbsp;</span>Conclusion</a></span></li></ul></div>"
   ]
  },
  {
   "cell_type": "markdown",
   "metadata": {},
   "source": [
    "# Hit rate "
   ]
  },
  {
   "cell_type": "markdown",
   "metadata": {},
   "source": [
    "## Data pre-processing"
   ]
  },
  {
   "cell_type": "markdown",
   "metadata": {},
   "source": [
    "### Import libraries"
   ]
  },
  {
   "cell_type": "code",
   "execution_count": 2,
   "metadata": {
    "ExecuteTime": {
     "end_time": "2020-11-12T16:38:03.155251Z",
     "start_time": "2020-11-12T16:38:02.162355Z"
    }
   },
   "outputs": [],
   "source": [
    "import pandas as pd # used for data storage\n",
    "import numpy as np # used for data calculations\n",
    "\n",
    "import scipy.stats as stats # used for AB test statistical methods\n",
    "from statsmodels.stats.proportion import proportion_confint # used to calculate conf. intervals \n",
    "\n",
    "import matplotlib.pyplot as plt # used for plots\n",
    "# plots to be shown\n",
    "%matplotlib inline\n",
    "\n",
    "# used for adding logos\n",
    "from PIL import Image\n",
    "import requests\n",
    "from io import BytesIO\n",
    "\n",
    "# plots text with multiple colors\n",
    "from highlight_text import htext\n",
    "\n",
    "pd.set_option('display.max_columns', 500) # maximum number of columns to be shown\n",
    "pd.set_option('display.max_rows', 500) # maximum number of rows to be shown "
   ]
  },
  {
   "cell_type": "markdown",
   "metadata": {},
   "source": [
    "### Make plots nicer with some configuration"
   ]
  },
  {
   "cell_type": "code",
   "execution_count": 11,
   "metadata": {
    "ExecuteTime": {
     "end_time": "2020-11-12T16:38:51.575116Z",
     "start_time": "2020-11-12T16:38:51.561565Z"
    }
   },
   "outputs": [],
   "source": [
    "text_color = \"w\"\n",
    "background = \"#0e2058\"\n",
    "plt.rcParams['figure.facecolor'] = background\n",
    "plt.rcParams['axes.facecolor'] = background\n",
    "plt.rcParams['figure.titlesize'] = 18 \n",
    "plt.rcParams['figure.titleweight'] = \"bold\" \n",
    "plt.rcParams['figure.figsize'] = (12, 6)\n",
    "\n",
    "plt.rcParams['xtick.color'] = text_color\n",
    "plt.rcParams['ytick.color'] = text_color\n",
    "plt.rcParams[\"legend.facecolor\"] = background\n",
    "plt.rcParams[\"legend.frameon\"] = False\n",
    "plt.rcParams[\"axes.labelweight\"] = \"bold\" \n",
    "plt.rcParams[\"axes.labelcolor\"] = text_color \n",
    "plt.rcParams[\"axes.labelsize\"] = 14 \n",
    "plt.rcParams[\"font.fantasy\"] = \"Charcoal\" \n",
    "plt.rcParams[\"font.size\"] = 12\n",
    "plt.rcParams[\"text.color\"] = text_color\n",
    "\n",
    "g1_color = \"#f2c641\"\n",
    "g2_color = \"#9932CC\"\n",
    "diff_color = \"#cc7000\"\n",
    "\n",
    "def pretty_plot(url): \n",
    "    # adding logo\n",
    "    ax2 = fig.add_axes([0.02, 0.96, 0.15, 0.15])\n",
    "    #ax2 = fig.add_axes([0, 2.08, 0.23, 0.23])\n",
    "    ax2.axis(\"off\")\n",
    "    response = requests.get(url)\n",
    "    img = Image.open(BytesIO(response.content))\n",
    "    ax2.imshow(img)\n",
    "\n",
    "    s = \"Heroic - AB test - <Hit rate>\"\n",
    "    htext.fig_htext(s, 0.15, 1.02, highlight_colors=\"#9932CC\", highlight_weights=[\"bold\"],\n",
    "                   string_weight=\"bold\", fontsize=22, color=text_color)\n",
    "#     htext.fig_htext(s, 0.2, 2.17, highlight_colors=\"#9932CC\", highlight_weights=[\"bold\"],\n",
    "#                    string_weight=\"bold\", fontsize=22, color=text_color)\n",
    "\n",
    "    # remove top and right spines, color bottom and left\n",
    "    spines = [\"top\", \"right\", \"bottom\", \"left\"]\n",
    "    for s in spines:\n",
    "        if s in [\"top\", \"right\"]:\n",
    "            axs.spines[s].set_visible(False)\n",
    "        else:\n",
    "            axs.spines[s].set_color(text_color)"
   ]
  },
  {
   "cell_type": "markdown",
   "metadata": {},
   "source": [
    "### Load data"
   ]
  },
  {
   "cell_type": "code",
   "execution_count": 4,
   "metadata": {
    "ExecuteTime": {
     "end_time": "2020-11-12T16:38:08.001419Z",
     "start_time": "2020-11-12T16:38:07.902945Z"
    }
   },
   "outputs": [
    {
     "name": "stderr",
     "output_type": "stream",
     "text": [
      "/home/mmiljkovic/anaconda3/lib/python3.7/site-packages/IPython/core/interactiveshell.py:3057: DtypeWarning: Columns (1) have mixed types. Specify dtype option on import or set low_memory=False.\n",
      "  interactivity=interactivity, compiler=compiler, result=result)\n"
     ]
    }
   ],
   "source": [
    "users_hit_rate = pd.read_csv(\"users_hit_rate.csv\")"
   ]
  },
  {
   "cell_type": "markdown",
   "metadata": {},
   "source": [
    "### Split users into groups (2 distinct dataframes)"
   ]
  },
  {
   "cell_type": "code",
   "execution_count": 5,
   "metadata": {
    "ExecuteTime": {
     "end_time": "2020-11-12T16:38:09.121280Z",
     "start_time": "2020-11-12T16:38:09.081777Z"
    }
   },
   "outputs": [],
   "source": [
    "group_1 = users_hit_rate[users_hit_rate['group'] == \"group_1\"].drop(\"group\", axis=1)\n",
    "group_2 = users_hit_rate[users_hit_rate['group'] == \"group_2\"].drop(\"group\", axis=1)"
   ]
  },
  {
   "cell_type": "markdown",
   "metadata": {},
   "source": [
    "### Check number of users in each group"
   ]
  },
  {
   "cell_type": "code",
   "execution_count": 6,
   "metadata": {
    "ExecuteTime": {
     "end_time": "2020-11-12T16:38:09.936010Z",
     "start_time": "2020-11-12T16:38:09.929604Z"
    }
   },
   "outputs": [
    {
     "name": "stdout",
     "output_type": "stream",
     "text": [
      "Number of users in group_1: 2489\n",
      "Number of users in group_2: 2490\n"
     ]
    }
   ],
   "source": [
    "print(f\"Number of users in group_1: {len(group_1.login_id.unique())}\")\n",
    "print(f\"Number of users in group_2: {len(group_2.login_id.unique())}\")"
   ]
  },
  {
   "cell_type": "markdown",
   "metadata": {},
   "source": [
    "Ok, that's nice! We can say that initially we have AB test with equal sample sizes."
   ]
  },
  {
   "cell_type": "markdown",
   "metadata": {},
   "source": [
    "### Check number of received answers for notifications"
   ]
  },
  {
   "cell_type": "code",
   "execution_count": 7,
   "metadata": {
    "ExecuteTime": {
     "end_time": "2020-11-12T16:38:11.550190Z",
     "start_time": "2020-11-12T16:38:11.537875Z"
    }
   },
   "outputs": [
    {
     "name": "stdout",
     "output_type": "stream",
     "text": [
      "Number of received answers for group_1: 2487\n",
      "Number of received answers for group_2: 1372\n"
     ]
    }
   ],
   "source": [
    "g1_count = len(group_1[~group_1['allowed_notifications'].isnull()])\n",
    "g2_count = len(group_2[~group_2['allowed_notifications'].isnull()])\n",
    "print(f\"Number of received answers for group_1: {g1_count}\")\n",
    "print(f\"Number of received answers for group_2: {g2_count}\")"
   ]
  },
  {
   "cell_type": "markdown",
   "metadata": {},
   "source": [
    "Now, it's not nice, because our AB test becomes test with unequal sample sizes for this metric optimization. We can see that a lot of users in `group_2` didn't see or didn't answer on notification pop-up. That probably means they haven't been active enough in two weeks (don't have tutorial completed)"
   ]
  },
  {
   "cell_type": "markdown",
   "metadata": {},
   "source": [
    "### Check allowed notifications for each group"
   ]
  },
  {
   "cell_type": "code",
   "execution_count": 8,
   "metadata": {
    "ExecuteTime": {
     "end_time": "2020-11-12T16:38:15.619170Z",
     "start_time": "2020-11-12T16:38:15.612207Z"
    }
   },
   "outputs": [
    {
     "name": "stdout",
     "output_type": "stream",
     "text": [
      "Allowed notifications in group_1: 1434\n",
      "Allowed notifications in group_2: 861\n"
     ]
    }
   ],
   "source": [
    "g1_hits = len(group_1[group_1['allowed_notifications'] == True])\n",
    "g2_hits = len(group_2[group_2['allowed_notifications'] == True])\n",
    "print(f\"Allowed notifications in group_1: {g1_hits}\")\n",
    "print(f\"Allowed notifications in group_2: {g2_hits}\")"
   ]
  },
  {
   "cell_type": "markdown",
   "metadata": {},
   "source": [
    "### Calculate hit rate on provided samples for each group "
   ]
  },
  {
   "cell_type": "code",
   "execution_count": 9,
   "metadata": {
    "ExecuteTime": {
     "end_time": "2020-11-12T16:38:17.229968Z",
     "start_time": "2020-11-12T16:38:17.224380Z"
    }
   },
   "outputs": [
    {
     "name": "stdout",
     "output_type": "stream",
     "text": [
      "Hit rate for group_1: 0.58\n",
      "Hit rate for group_2: 0.63\n"
     ]
    }
   ],
   "source": [
    "g1_hit_rate = round(g1_hits / g1_count, 2)\n",
    "g2_hit_rate = round(g2_hits / g2_count, 2)\n",
    "print(f\"Hit rate for group_1: {g1_hit_rate}\")\n",
    "print(f\"Hit rate for group_2: {g2_hit_rate}\")"
   ]
  },
  {
   "cell_type": "markdown",
   "metadata": {},
   "source": [
    "Second group has less hits, but higher hit rate than the first one. "
   ]
  },
  {
   "cell_type": "markdown",
   "metadata": {},
   "source": [
    "## AB test approaches"
   ]
  },
  {
   "cell_type": "markdown",
   "metadata": {},
   "source": [
    "### Hit rate modeling"
   ]
  },
  {
   "cell_type": "markdown",
   "metadata": {},
   "source": [
    "User can allow or disallow notifications. Two discrete options are available, so this is \n",
    "a __binomial distribution__, with some unknown rate for both groups. We don’t know the true \n",
    "hit rate, but we have estimated values from our sample. "
   ]
  },
  {
   "cell_type": "markdown",
   "metadata": {},
   "source": [
    "\\begin{definition}\n",
    "BINOMIAL DISTRIBUTION $Bin(n,p)$\n",
    "\\end{definition}\n",
    "\n",
    "\n",
    "\n",
    "\\begin{equation*}\n",
    "Pr(X=k) =  \\left( \\begin{array}{cc} n \\\\ k \\end{array}\\right) p^k (1-p)^{(n-k)},       \n",
    "\\end{equation*}\n",
    "\n",
    "$k=0,1,...,n$, <br>\n",
    "$k$ = number of successes (number of allowed notifications),<br>\n",
    "$n$ = number of experiments (number of received answers).\n",
    "\n"
   ]
  },
  {
   "cell_type": "markdown",
   "metadata": {},
   "source": [
    "#### Probability mass function for each group\n",
    "- Determine the probability of having k number of allowed notifications (hits)\n",
    "- Make the bar plots"
   ]
  },
  {
   "cell_type": "code",
   "execution_count": 10,
   "metadata": {
    "ExecuteTime": {
     "end_time": "2020-11-12T16:38:29.398265Z",
     "start_time": "2020-11-12T16:38:23.096836Z"
    }
   },
   "outputs": [
    {
     "data": {
      "image/png": "[encoded data removed]",
      "text/plain": [
       "<Figure size 864x432 with 2 Axes>"
      ]
     },
     "metadata": {},
     "output_type": "display_data"
    }
   ],
   "source": [
    "hits = np.arange(600, 1700)\n",
    "g1_pmf = stats.binom(g1_count, g1_hit_rate).pmf(hits)\n",
    "g2_pmf = stats.binom(g2_count, g2_hit_rate).pmf(hits)\n",
    "\n",
    "fig, axs = plt.subplots()\n",
    "fig.suptitle('Probability mass function of allowed notifications', color=text_color)\n",
    "plt.bar(hits, g1_pmf, label=\"group_1\", alpha=0.8, color=g1_color)\n",
    "plt.bar(hits, g2_pmf, label=\"group_2\", alpha=0.8, color=g2_color)\n",
    "legend = plt.legend()\n",
    "plt.setp(legend.get_texts(), color=text_color)\n",
    "plt.xlabel(\"k = users who allowed notifications\")\n",
    "plt.ylabel(\"Pr ( X = k )\")\n",
    "\n",
    "pretty_plot(url=\"https://www.bluemoongame.com/wp-content/uploads/ewpt_cache/199x0_100_1_c_FFFFFF_4478e21672f8bc27b135a825430b3f49.png\")"
   ]
  },
  {
   "cell_type": "markdown",
   "metadata": {},
   "source": [
    "We can see that `group_1` has more hits for sure, but this group has more observations with \n",
    "pop-up sent, so comparison is not adequate. And to mention again, `group_2` has higher \n",
    "hit rate.\n",
    "<br>\n",
    "We have two choices: parametric and non-parametric hypothesis testing."
   ]
  },
  {
   "cell_type": "markdown",
   "metadata": {},
   "source": [
    "### Parametric tests"
   ]
  },
  {
   "cell_type": "markdown",
   "metadata": {},
   "source": [
    "__Parametric tests__ require that variables are measured on an interval or ratio scale and that the data follows a known distribution. Particularly, tests based on the normal distribution require four basic assumptions:\n",
    "\n",
    "- A normally distributed sampling distribution\n",
    "- Interval or ratio data\n",
    "\n",
    "And in addition for independent tests:\n",
    "\n",
    "- Scores in different conditions are independent (because they come from different people)\n",
    "- Homogeneity of variance"
   ]
  },
  {
   "cell_type": "markdown",
   "metadata": {},
   "source": [
    "#### Normal distribution approximation "
   ]
  },
  {
   "cell_type": "markdown",
   "metadata": {},
   "source": [
    "\\begin{theorem}\n",
    "CENTRAL LIMIT THEOREM\n",
    "\\end{theorem}\n",
    "If we have a population with mathematical expectance $\\mu$ and standard deviation $\\sigma$ and take sufficiently large random samples from the population with replacement, then the distribution of the sample mathemathical expectances will be approximately normally distributed."
   ]
  },
  {
   "cell_type": "markdown",
   "metadata": {},
   "source": [
    "As we’re interested in the average conversion (allowed notifications), this averaging of an underlying distribution means our final estimate will be well approximated by a normal distribution."
   ]
  },
  {
   "cell_type": "markdown",
   "metadata": {},
   "source": [
    "##### Calculate minimum sample size required for both groups"
   ]
  },
  {
   "cell_type": "markdown",
   "metadata": {},
   "source": [
    "\\begin{theorem}\n",
    "POOLED VARIANCE\n",
    "\\end{theorem}\n",
    "If ($X_{1},...,X_{n_{1}}$), ($Y_{1},...,Y_{n_{2}}$) are independent (and mutually independent) samples from normal distributions with unknown mathematical expectances $\\mu_{1}$ and $\\mu_{2}$ and with mutually approximately equal (but unknown) variances $s_{1}^2$ and $s_{2}^2$ . We define:\n",
    "\\begin{equation*}\n",
    "s_{1,2}^2 = \\frac{(n_{1}-1) s_{1}^2 + (n_{2}-1) s_{2}^2}{n_{1}+n_{2}-2},\n",
    "\\end{equation*}\n",
    "\n",
    "$s_{1}^2$ = variance of first distribution sample,<br>\n",
    "$s_{1}^2$ = variance of second distribution sample,<br>\n",
    "$n_{1}$ = size of first distribution sample,<br>\n",
    "$n_{2}$ = size of second distribution sample\n",
    "<br><br>\n",
    "&emsp;&emsp;&emsp;&emsp;&emsp;&emsp;&emsp;&emsp;&emsp;&emsp;&emsp;&emsp;&emsp;&emsp;&emsp;&emsp;&emsp;&emsp;&emsp;&emsp;&emsp;&emsp;&emsp;&emsp;&emsp;&emsp;&emsp; _Probability and statistics_,\n",
    "   _Milan Merkle (2016)_ "
   ]
  },
  {
   "cell_type": "markdown",
   "metadata": {},
   "source": [
    "If we know the pooled variance for two normal sampled distributions, we can estimate minimal required sample size for AB test as:\n",
    "\\begin{equation*}\n",
    "n_{1} = n_{2} = \\frac{s_{1,2}^2}{(\\mu_{1}-\\mu_{2})^2}(z_{1-\\beta}+z_{\\alpha/2})^2,\n",
    "\\end{equation*}\n",
    "\n",
    "$\\mu_{1}$ = hit rate for group_1,<br>\n",
    "$\\mu_{2}$ = hit rate for group_2,<br>\n",
    "$s_{1,2}^2$ = pooled variance,<br>\n",
    "$\\alpha$ = significance level (typically $\\alpha$=0.05),<br> \n",
    "1-$\\beta$ = test power (typically 1-$\\beta$=0.8),<br>\n",
    "${ z }_{ \\alpha /2 }$, ${ z }_{ 1-\\beta }$ = critical values for given parameters $\\alpha$ and 1-$\\beta$, respectively."
   ]
  },
  {
   "cell_type": "code",
   "execution_count": 13,
   "metadata": {
    "ExecuteTime": {
     "end_time": "2020-11-12T16:39:09.808662Z",
     "start_time": "2020-11-12T16:39:09.799893Z"
    }
   },
   "outputs": [
    {
     "name": "stdout",
     "output_type": "stream",
     "text": [
      "Minimal recommended number is 753, but we will set 800 as a sample size for each group.\n",
      "If size is large enough, then the skew of the distribution is not too great.\n"
     ]
    }
   ],
   "source": [
    "# typically for alpha = 0.05 z_alpha_half equals 1.96 and for beta = 0.2 z_beta equals 0.84\n",
    "pooled_variance = ((g1_count - 1) * (g1_hit_rate * (1 - g1_hit_rate)) + (g2_count - 1) * \\\n",
    "                   (g2_hit_rate * (1 - g2_hit_rate))) / (g1_count + g2_count - 2)\n",
    "n =  int(np.ceil(pooled_variance / (g1_hit_rate - g2_hit_rate)**2 * (0.84 + 1.96)**2))\n",
    "\n",
    "# not use minimal recommended number \n",
    "if n > 100:\n",
    "    g_count = int(np.ceil(n / 100) * 100)\n",
    "elif n == 100:\n",
    "    g_count = 150\n",
    "elif n > 50:\n",
    "    g_count = int(np.ceil(n / 50) * 50)\n",
    "else:\n",
    "    g_count == 50\n",
    "    \n",
    "print(f\"Minimal recommended number is {n}, but we will set {g_count} as a sample size \" \\\n",
    "      \"for each group.\")\n",
    "print(\"If size is large enough, then the skew of the distribution is not too great.\")"
   ]
  },
  {
   "cell_type": "markdown",
   "metadata": {},
   "source": [
    "##### Plot probability density functions"
   ]
  },
  {
   "cell_type": "markdown",
   "metadata": {
    "ExecuteTime": {
     "end_time": "2020-09-06T10:51:05.583720Z",
     "start_time": "2020-09-06T10:51:05.573496Z"
    }
   },
   "source": [
    "\\begin{definition}\n",
    "NORMAL DISTRIBUTION  N($\\mu$,$\\sigma^2$)\n",
    "\\end{definition}\n",
    "\\begin{equation*}\n",
    "f(x) = \\frac {1}{\\sigma\\sqrt{2\\pi}}exp\\left(\\begin{array}{cc} -\\frac {(x-\\mu)^2}{2\\sigma^2} \\end{array}\\right),\n",
    "-\\infty<x<+\\infty\n",
    "\\end{equation*}\n",
    "\n",
    "$\\mu$ = mathematical expectance,\n",
    "\n",
    "$\\sigma$ = population variance \n"
   ]
  },
  {
   "cell_type": "markdown",
   "metadata": {},
   "source": [
    "\\begin{theorem}\n",
    "Aproximation of binomial to normal distribution. Moivre-Laplace theorem\n",
    "\\end{theorem}\n",
    "If $Y_{n}$ is random variable from binomial distribution with parameters n and p. Then for every x $\\epsilon$ __R__ valid expression is:\n",
    "\\begin{equation*}\n",
    "\\lim \\limits _{n->+\\infty}^{} P\\left(\\begin{array}{cc}\\frac{Y_{n} - np}{\\sqrt{np(1-p)}} \\leq x \\end{array}\\right)=\\frac {1}{\\sqrt{2\\pi}}\\int_{-\\infty}^{x}e^{-t^2/2}dt.\n",
    "\\end{equation*}\n",
    "This theorem comes directly from the central limit theorem, if it's put that $Y_{n}$ = $X_{1}$ + ... + $X_{n}$, where $X_{k}$, $k=1,2,...,n$, are indepedent random variables with Bernoulli distribution, $E(X_{1})=p$, $Var(X_{1})=p(1-p)$.  \n",
    "\n",
    "<br><br>\n",
    "&emsp;&emsp;&emsp;&emsp;&emsp;&emsp;&emsp;&emsp;&emsp;&emsp;&emsp;&emsp;&emsp;&emsp;&emsp;&emsp;&emsp;&emsp;&emsp;&emsp;&emsp;&emsp;&emsp;&emsp;&emsp;&emsp;&emsp; _Probability and statistics_,\n",
    "   _Milan Merkle (2016)_ \n"
   ]
  },
  {
   "cell_type": "markdown",
   "metadata": {},
   "source": [
    "If group of n users were sampled repeatedly and truly randomly, the proportions would follow an approximate normal distribution with mean equal to the true proportion $p$ of allowed notifications (hit rate) in the population and with standard deviation \\begin{equation*}\n",
    "{\\displaystyle s ={\\sqrt {\\frac {p(1-p)}{n}}}}\n",
    "\\end{equation*}"
   ]
  },
  {
   "cell_type": "code",
   "execution_count": 14,
   "metadata": {
    "ExecuteTime": {
     "end_time": "2020-11-12T16:39:13.985833Z",
     "start_time": "2020-11-12T16:39:12.992897Z"
    }
   },
   "outputs": [
    {
     "data": {
      "image/png": "[encoded data removed]",
      "text/plain": [
       "<Figure size 864x432 with 2 Axes>"
      ]
     },
     "metadata": {},
     "output_type": "display_data"
    }
   ],
   "source": [
    "g1_std = np.sqrt(g1_hit_rate * (1 - g1_hit_rate) / g1_count)\n",
    "g2_std = np.sqrt(g2_hit_rate * (1 - g2_hit_rate) / g2_count)\n",
    "\n",
    "hit_rate = np.linspace(0.4, 0.8, g_count)\n",
    "g1_pdf = stats.norm(g1_hit_rate, g1_std).pdf(hit_rate)\n",
    "g2_pdf = stats.norm(g2_hit_rate, g2_std).pdf(hit_rate)\n",
    "\n",
    "fig, axs = plt.subplots()\n",
    "fig.suptitle('Probability density function of hit rate', color=text_color)\n",
    "plt.plot(hit_rate, g1_pdf, label=\"group_1\", color=g1_color)\n",
    "plt.plot(hit_rate, g2_pdf, label=\"group_2\", color=g2_color)\n",
    "legend = plt.legend()\n",
    "plt.setp(legend.get_texts(), color=text_color)\n",
    "plt.xlabel(\"x = hit rate\") \n",
    "plt.ylabel(\"f ( x )\")\n",
    "\n",
    "pretty_plot(url=\"https://encrypted-tbn0.gstatic.com/images?q=tbn%3AANd9GcTgEERBn1kiw1ME7vnI3U2mrwc_pewBYiL1Qg&usqp=CAU\")"
   ]
  },
  {
   "cell_type": "markdown",
   "metadata": {},
   "source": [
    "This is a better plot than the first one, because we’ve removed the confusing effect of `group_1` and `group_2` having a different number of users. So our question is:<br>What is the chance that a draw from `group_2` is different than a draw from `group_1`? Is it significant?"
   ]
  },
  {
   "cell_type": "markdown",
   "metadata": {},
   "source": [
    "To answer this, let us utilise the handy fact that the sum (or difference) of normally distributed random numbers is also a normal \n",
    "\\begin{equation*}\n",
    "N\\left(\\mu_{2}-\\mu_{1}, \\sqrt{s_{1}^2+s_{2}^2}\\right),\n",
    "\\end{equation*}\n",
    "<br>\n",
    "\\begin{equation*}\n",
    "Z = \\frac {\\mu_{2}-\\mu_{1}}{\\sqrt{s_{1}^2 + s_{2}^2}} \n",
    "\\end{equation*}\n"
   ]
  },
  {
   "cell_type": "markdown",
   "metadata": {},
   "source": [
    "##### Calculate z-score, p-value and plot distribution of difference "
   ]
  },
  {
   "cell_type": "code",
   "execution_count": 13,
   "metadata": {
    "ExecuteTime": {
     "end_time": "2020-09-23T12:45:41.438001Z",
     "start_time": "2020-09-23T12:45:40.718331Z"
    }
   },
   "outputs": [
    {
     "name": "stdout",
     "output_type": "stream",
     "text": [
      "z-score = 3.055, p-value = 0.001\n"
     ]
    },
    {
     "data": {
      "image/png": "[encoded data removed]",
      "text/plain": [
       "<Figure size 864x432 with 2 Axes>"
      ]
     },
     "metadata": {},
     "output_type": "display_data"
    }
   ],
   "source": [
    "z_score = (g2_hit_rate - g1_hit_rate) / np.sqrt(g1_std ** 2 + g2_std ** 2)\n",
    "diff_pdf = stats.norm(g2_hit_rate - g1_hit_rate, np.sqrt(g1_std ** 2 + g2_std ** 2))\n",
    "\n",
    "x = np.linspace(-0.05, 0.15, g_count)\n",
    "y = diff_pdf.pdf(x)\n",
    "area_under_curve = diff_pdf.sf(0)\n",
    "\n",
    "fig, axs = plt.subplots()\n",
    "fig.suptitle('Probability density function of hit rate difference', color=text_color)\n",
    "plt.plot(x, y, label=\"f(x)\", color=diff_color)\n",
    "plt.fill_between(x, 0, y, where=x>0, label=\"Pr(g2 > g1)\", alpha=0.4, color=\"#ff981a\")\n",
    "plt.annotate(f\"Area={area_under_curve:0.3f}\", (0.04, 4))\n",
    "plt.legend()\n",
    "plt.setp(legend.get_texts(), color=text_color)\n",
    "\n",
    "plt.xlabel(\"x = Difference in hit rate\")\n",
    "plt.ylabel(\" f ( x )\")\n",
    "\n",
    "pretty_plot(url=\"https://encrypted-tbn0.gstatic.com/images?q=tbn%3AANd9GcQjoiHSG0MA90t-872xvKB-yeOOMqeh4djNvdMpiEzpHw&usqp=CAU&ec=45695923\")\n",
    "            \n",
    "print(f\"z-score = {z_score:0.3f}, p-value = {stats.norm().sf(z_score):0.3f}\")"
   ]
  },
  {
   "cell_type": "markdown",
   "metadata": {},
   "source": [
    "We reject null hypothesis, because p-value is 0.001 and if far less than 0.05, so we have another confirmation that distributions are significantly statisticaly different. Also, we get results that amplify the fact that `group_2` have advantage in hit rate over `group_1` with probabilty of 0.999.    "
   ]
  },
  {
   "cell_type": "markdown",
   "metadata": {},
   "source": [
    "We can check this statement on very large number of samples. If we know parameters of normal distributions (mean and standard deviation), we can generate random numbers and compare these \n",
    "distributions."
   ]
  },
  {
   "cell_type": "code",
   "execution_count": 23,
   "metadata": {
    "ExecuteTime": {
     "end_time": "2020-09-18T14:14:09.105381Z",
     "start_time": "2020-09-18T14:14:09.097867Z"
    }
   },
   "outputs": [
    {
     "name": "stdout",
     "output_type": "stream",
     "text": [
      "group_2 is better than group_1 99.9% of the time\n"
     ]
    }
   ],
   "source": [
    "n = 10000\n",
    "g1_rates = stats.norm(g1_hit_rate, g1_std).rvs(n)\n",
    "g2_rates = stats.norm(g2_hit_rate, g2_std).rvs(n)\n",
    "g2_better = (g2_rates > g1_rates).sum() / n\n",
    "print(f\"group_2 is better than group_1 {g2_better * 100:0.1f}% of the time\")"
   ]
  },
  {
   "cell_type": "markdown",
   "metadata": {},
   "source": [
    "#### Confidence intervals"
   ]
  },
  {
   "cell_type": "markdown",
   "metadata": {},
   "source": [
    "__Confidence intervals__ is an approach to estimate the difference between two populations with normal distribution. We can compute an approximate confidence interval for the difference between the proportion of successes in group_1 and group 2 (hit rates). If the confidence interval includes zero, then the data does not suggest a difference between the groups."
   ]
  },
  {
   "cell_type": "markdown",
   "metadata": {},
   "source": [
    "\\begin{theorem}\n",
    "Confidence intervals for $\\mu$ when $\\sigma^2$ is unknown\n",
    "\\end{theorem}\n",
    "If $X_{1}$ + ... + $X_{n}$ are independent sample from normal distribution $N(\\mu,\\sigma^2)$, where $\\mu$ and $\\sigma^2$ are unknown. $\\varepsilon_{u}$ is $u$-th quantile of distribution $t(n-1)$.\n",
    "Two-sided confidence intervals for $\\mu$ is calculated from:\n",
    "\\begin{equation*}\n",
    "P\\left(\\mu \\: \\epsilon \\left[\\hat\\mu - \\varepsilon_{1-\\alpha/2} \\frac {s}{\\sqrt{n}},\\hat\\mu + \\varepsilon_{1-\\alpha/2} \\frac {s}{\\sqrt{n}}\\right]\\right)=1-\\alpha.   \n",
    "\\end{equation*}\n",
    "<br><br>\n",
    "&emsp;&emsp;&emsp;&emsp;&emsp;&emsp;&emsp;&emsp;&emsp;&emsp;&emsp;&emsp;&emsp;&emsp;&emsp;&emsp;&emsp;&emsp;&emsp;&emsp;&emsp;&emsp;&emsp;&emsp;&emsp;&emsp;&emsp; _Probability and statistics_,\n",
    "   _Milan Merkle (2016)_ "
   ]
  },
  {
   "cell_type": "markdown",
   "metadata": {},
   "source": [
    "##### Calculate confidence intervals for each group manually"
   ]
  },
  {
   "cell_type": "code",
   "execution_count": 24,
   "metadata": {
    "ExecuteTime": {
     "end_time": "2020-09-18T14:14:13.771327Z",
     "start_time": "2020-09-18T14:14:13.758879Z"
    }
   },
   "outputs": [
    {
     "name": "stdout",
     "output_type": "stream",
     "text": [
      "Confidence intervals for group_1: (0.561, 0.599) \n",
      "Confidence intervals for group_2: (0.604, 0.656)\n"
     ]
    }
   ],
   "source": [
    "g1_error = stats.t.ppf(0.975, g1_count-1) * np.sqrt((g1_hit_rate * (1 - g1_hit_rate)) / g1_count)\n",
    "g1_ci_lower = round(g1_hit_rate - g1_error, 3)\n",
    "g1_ci_upper = round(g1_hit_rate + g1_error, 3)\n",
    "\n",
    "g2_error = stats.t.ppf(0.975, g2_count-1) * np.sqrt((g2_hit_rate * (1 - g2_hit_rate)) / g2_count)\n",
    "g2_ci_lower = round(g2_hit_rate - g2_error, 3)\n",
    "g2_ci_upper = round(g2_hit_rate + g2_error, 3)\n",
    "\n",
    "print(f\"Confidence intervals for group_1: ({g1_ci_lower}, {g1_ci_upper}) \\n\" + \\\n",
    "      f\"Confidence intervals for group_2: ({g2_ci_lower}, {g2_ci_upper})\") "
   ]
  },
  {
   "cell_type": "markdown",
   "metadata": {
    "ExecuteTime": {
     "end_time": "2020-09-06T11:37:06.956805Z",
     "start_time": "2020-09-06T11:37:06.950244Z"
    }
   },
   "source": [
    "It seems `group_2` is likely to allow notifications than `group_1`. Let's verify this on confidence intervals for the difference between our two groups. <br><br>\n",
    "__Note__: We use Student distribution $t(n-1)$ when calculating intervals. We'll get the same results if we put standard normal distribution instead, because we have large sample sizes ($n$ >> 30). But, it's good to be consistent with theory. "
   ]
  },
  {
   "cell_type": "markdown",
   "metadata": {},
   "source": [
    "\\begin{theorem}\n",
    "Confidence intervals for the difference between mathematical expectances\n",
    "(Approximate method for large samples)\n",
    "\\end{theorem}\n",
    "If ($X_{1},...,X_{n_{1}}$), ($Y_{1},...,Y_{n_{2}}$) are independent (and mutually independent) samples from distributions with unknown mathematical expectances $\\mu_{1}$ and $\\mu_{2}$ with big samples sizes $n_{1}$ and $n_{2}$ ($\\geq$ 30). $\\varepsilon_{u}$ is $u$-th quantile of distribution $N(0,1)$.\n",
    "Two-sided confidence intervals with confidence level $1-\\alpha$ for $\\delta=\\mu_{1}-\\mu_{2}$ are defined with range:\n",
    "\\begin{equation*}\n",
    "\\hat\\mu_{1} - \\hat\\mu_{2} \\pm \\varepsilon_{1-\\alpha/2} \\sqrt{\\frac {s_{1}^2}{n_{1}} + \\frac {s_{2}^2}{n_{2}}}.\n",
    "\\end{equation*}\n",
    "\n",
    "\n",
    "<br><br>\n",
    "&emsp;&emsp;&emsp;&emsp;&emsp;&emsp;&emsp;&emsp;&emsp;&emsp;&emsp;&emsp;&emsp;&emsp;&emsp;&emsp;&emsp;&emsp;&emsp;&emsp;&emsp;&emsp;&emsp;&emsp;&emsp;&emsp;&emsp; _Probability and statistics_,\n",
    "   _Milan Merkle (2016)_ "
   ]
  },
  {
   "cell_type": "code",
   "execution_count": 25,
   "metadata": {
    "ExecuteTime": {
     "end_time": "2020-09-18T14:14:16.739513Z",
     "start_time": "2020-09-18T14:14:16.731997Z"
    }
   },
   "outputs": [
    {
     "name": "stdout",
     "output_type": "stream",
     "text": [
      "Conf.intervals:(0.018, 0.082)\n"
     ]
    }
   ],
   "source": [
    "ci_lower = round(g2_hit_rate - g1_hit_rate - stats.norm.ppf(0.975) * np.sqrt(g1_hit_rate * (1 - \\\n",
    "    g1_hit_rate) / g1_count + g2_hit_rate * (1 - g2_hit_rate) / g2_count), 3) \n",
    "ci_upper = round(g2_hit_rate - g1_hit_rate + stats.norm.ppf(0.975) * np.sqrt(g1_hit_rate * (1 - \\\n",
    "    g1_hit_rate) / g1_count + g2_hit_rate * (1 - g2_hit_rate) / g2_count), 3)\n",
    "\n",
    "print(\"Conf.intervals:\" + \\\n",
    "f\"({ci_lower}, {ci_upper})\")"
   ]
  },
  {
   "cell_type": "markdown",
   "metadata": {},
   "source": [
    "Now we can see that the `95%` confidence interval estimate of the difference between the proportion of conversions for `group_2` and the proportion of conversions for `group_1` is between `1.8%` and `8.2%`. This interval tells us the range of plausible values for the difference between the two population proportions. According to this interval, zero is not a plausible value for the difference (i.e., interval does not cross zero), so we __reject the null hypothesis that the population means are not different!__"
   ]
  },
  {
   "cell_type": "markdown",
   "metadata": {},
   "source": [
    "##### Calculate confidence intervals for each group with `proportion_confint` method"
   ]
  },
  {
   "cell_type": "code",
   "execution_count": 26,
   "metadata": {
    "ExecuteTime": {
     "end_time": "2020-09-18T14:14:19.117064Z",
     "start_time": "2020-09-18T14:14:19.109722Z"
    }
   },
   "outputs": [
    {
     "name": "stdout",
     "output_type": "stream",
     "text": [
      "Confidence intervals for group_1: (0.557, 0.596)\n",
      "Confidence intervals for group_2: (0.602, 0.653)\n"
     ]
    }
   ],
   "source": [
    "ci_lower_statsmodels, ci_upper_statsmodels = proportion_confint(count=[g1_hits, g2_hits], \n",
    "                                                                nobs=[g1_count, g2_count],\n",
    "                                                                alpha=0.05)\n",
    "\n",
    "print(f\"Confidence intervals for group_1: ({round(ci_lower_statsmodels[0], 3)}, \" + \\\n",
    "      f\"{round(ci_upper_statsmodels[0], 3)})\")\n",
    "print(f\"Confidence intervals for group_2: ({round(ci_lower_statsmodels[1], 3)}, \" + \\\n",
    "      f\"{round(ci_upper_statsmodels[1], 3)})\")"
   ]
  },
  {
   "cell_type": "markdown",
   "metadata": {},
   "source": [
    "Previos results are confirmed with these.  "
   ]
  },
  {
   "cell_type": "markdown",
   "metadata": {},
   "source": [
    "### Non-parametric tests"
   ]
  },
  {
   "cell_type": "markdown",
   "metadata": {},
   "source": [
    "__Non-Parametric__ tests do not require the sampling distribution to be normally distributed. These tests may be used when the variable of interest is measured on an ordinal scale or when the parametric assumptions do not hold. They often rely on ranking the data instead of analyzing the actual scores."
   ]
  },
  {
   "cell_type": "markdown",
   "metadata": {},
   "source": [
    "####  $\\chi^2$ test"
   ]
  },
  {
   "cell_type": "markdown",
   "metadata": {},
   "source": [
    "We are moving from testing the difference between two population parameters (parametric hypothesis testing) to testing their proportions, ie. their independence (non-parametric hypothesis testing).\n",
    "\n",
    "__$\\chi^2$__ test may be used to test whether the groups are independent of each other. It achieves this by comparing the expected number of observations in a groups to the actual values. Under the null hypothesis, the two groups are independent (i.e., there is no relationship). This means that the frequency in each field will be roughly proportional to the probability of an observation being in that category, calculated under the assumption that they are independent. The difference between that expected quantity and the actual quantity can be used to construct the test statistic."
   ]
  },
  {
   "cell_type": "markdown",
   "metadata": {},
   "source": [
    "##### Calculate contigency table"
   ]
  },
  {
   "cell_type": "code",
   "execution_count": 27,
   "metadata": {
    "ExecuteTime": {
     "end_time": "2020-09-18T14:14:22.125233Z",
     "start_time": "2020-09-18T14:14:22.115740Z"
    }
   },
   "outputs": [
    {
     "name": "stdout",
     "output_type": "stream",
     "text": [
      "Expected contigency table is [[1008, 1479], [556, 816]].\n",
      "Observed contigency table is [[1053, 1434], [511, 861]].\n"
     ]
    }
   ],
   "source": [
    "#############################\n",
    "#      contigency table     #\n",
    "#############################\n",
    "#    |  no_hits |   hits    #\n",
    "# ------------------------- #\n",
    "# g1 |          |           #\n",
    "# ------------------------- # \n",
    "# g2 |          |           #\n",
    "#############################\n",
    "\n",
    "g1_no_hits = g1_count - g1_hits\n",
    "g2_no_hits = g2_count - g2_hits\n",
    "total_count = g1_count + g2_count\n",
    "\n",
    "cont_table_expected = [[],[]]\n",
    "cont_table_expected[0].append(int(round((g1_no_hits + g1_hits) * (g1_no_hits + g2_no_hits)  / total_count, 0)))\n",
    "cont_table_expected[0].append(int(round((g1_no_hits + g1_hits) * (g1_hits + g2_hits) / total_count, 0)))\n",
    "cont_table_expected[1].append(int(round((g2_no_hits + g2_hits) * (g1_no_hits + g2_no_hits) / total_count, 0)))\n",
    "cont_table_expected[1].append(int(round((g2_no_hits + g2_hits) * (g1_hits + g2_hits) / total_count, 0)))\n",
    "\n",
    "cont_table_observed = [[g1_no_hits, g1_hits], [g2_no_hits, g2_hits]]\n",
    "\n",
    "print(f\"Expected contigency table is {cont_table_expected}.\")\n",
    "print(f\"Observed contigency table is {cont_table_observed}.\")"
   ]
  },
  {
   "cell_type": "code",
   "execution_count": 41,
   "metadata": {
    "ExecuteTime": {
     "end_time": "2020-09-18T15:03:36.027652Z",
     "start_time": "2020-09-18T15:03:35.844460Z"
    }
   },
   "outputs": [
    {
     "data": {
      "image/png": "[encoded data removed]",
      "text/plain": [
       "<Figure size 432x288 with 2 Axes>"
      ]
     },
     "metadata": {},
     "output_type": "display_data"
    }
   ],
   "source": [
    "fig, axs = plt.subplots()\n",
    "fig.suptitle('Observed contigency table', color=text_color, x=0.55, y=2.13)\n",
    "\n",
    "plt.rcParams['figure.figsize'] = (6, 4)\n",
    "\n",
    "columns = ('Not allowed', 'Allowed')\n",
    "rows = ['group_1', 'group_2']\n",
    "\n",
    "colors = [\"#f2c641\", \"#9932CC\"]\n",
    "#n_rows = len(data)\n",
    "red = \"#bd1313\"\n",
    "green = \"#00752d\"\n",
    "\n",
    "index = np.array([0.3, 1])\n",
    "bar_width = 0.1\n",
    "\n",
    "# Initialize the vertical-offset for the stacked bar chart.\n",
    "y_offset = np.zeros(len(columns))\n",
    "\n",
    "# Plot bars and create text labels for the table\n",
    "cell_text = []\n",
    "row_1_obs = np.array(cont_table_observed[0])\n",
    "row_2_obs = np.array(cont_table_observed[1])\n",
    "row_1_exp = np.array(cont_table_expected[0])\n",
    "row_2_exp = np.array(cont_table_expected[1])\n",
    "#for row in range(n_rows):\n",
    "w = 0.1\n",
    "#plt.bar(index - w, row_1, color=g1_color, width=w*2)\n",
    "plt.bar(index[0] - w, row_1_exp[0], color=g1_color, width=w*2)\n",
    "plt.bar(index[0] - w, row_1_obs[0] - row_1_exp[0], bottom=row_1_exp[0], color=red, width=w*2)\n",
    "plt.bar(index[0] + w, row_2_obs[0], color=g2_color, width=w*2)\n",
    "\n",
    "plt.bar(index[1] - w, row_1_exp[1], color=g1_color, width=w*2)\n",
    "plt.bar(index[1] + w, row_2_exp[1], color=g2_color, width=w*2)\n",
    "plt.bar(index[1] + w, row_2_obs[1] - row_2_exp[1], bottom=row_2_exp[1], color=green, width=w*2)\n",
    "\n",
    "cell_text.append([int(x) for x in row_1_obs])\n",
    "cell_text.append([int(x) for x in row_2_obs])\n",
    "\n",
    "# Reverse colors and text labels to display the last value at the top.\n",
    "\n",
    "#cell_text.reverse()\n",
    "\n",
    "# Add a table at the bottom of the axes\n",
    "the_table = axs.table(cellText=cell_text,\n",
    "                      rowLabels=rows,\n",
    "                      rowColours=colors,\n",
    "                      colLabels=columns,\n",
    "                      colColours=[\"#bd1313\", \"#00752d\"],\n",
    "                      cellColours=[[\"#0e2058\", \"#0e2058\"],[\"#0e2058\", \"#0e2058\"]],\n",
    "                      loc='bottom',\n",
    "                      colLoc=\"center\",\n",
    "                      cellLoc=\"center\",\n",
    "                      edges=\"closed\")\n",
    "\n",
    "for key, cell in the_table.get_celld().items():\n",
    "    cell.set_edgecolor(\"w\")\n",
    "\n",
    "# # Adjust layout to make room for the table:\n",
    "plt.subplots_adjust(left=0.15, bottom=1, top=2)\n",
    "\n",
    "plt.ylabel(\"(Not) allowed notifications\")\n",
    "plt.xticks([])\n",
    "\n",
    "pretty_plot(url=\"Heroic-Magic-Duel-Blade-Dancer.jpg\")"
   ]
  },
  {
   "cell_type": "code",
   "execution_count": 36,
   "metadata": {
    "ExecuteTime": {
     "end_time": "2020-09-16T19:57:17.928955Z",
     "start_time": "2020-09-16T19:57:17.438036Z"
    }
   },
   "outputs": [
    {
     "data": {
      "image/png": "[encoded data removed]",
      "text/plain": [
       "<Figure size 432x288 with 2 Axes>"
      ]
     },
     "metadata": {},
     "output_type": "display_data"
    }
   ],
   "source": [
    "fig, axs = plt.subplots()\n",
    "fig.suptitle('Expected contigency table', color=text_color, x=0.55, y=2.13)\n",
    "\n",
    "plt.rcParams['figure.figsize'] = (6, 4)\n",
    "\n",
    "data = cont_table_expected\n",
    "\n",
    "columns = ('Not allowed', 'Allowed')\n",
    "rows = ['group_1', 'group_2']\n",
    "\n",
    "colors = [\"#f2c641\", \"#9932CC\"]\n",
    "n_rows = len(data)\n",
    "\n",
    "index = np.array([0.3, 1])\n",
    "bar_width = 0.1\n",
    "\n",
    "# Initialize the vertical-offset for the stacked bar chart.\n",
    "y_offset = np.zeros(len(columns))\n",
    "\n",
    "# Plot bars and create text labels for the table\n",
    "cell_text = []\n",
    "row_1 = np.array(data[0])\n",
    "row_2 = np.array(data[1])\n",
    "#for row in range(n_rows):\n",
    "w = 0.1\n",
    "plt.bar(index - w, row_1, color=g1_color, width=w*2)\n",
    "plt.bar(index + w, row_2, color=g2_color, width=w*2)\n",
    "\n",
    "cell_text.append([int(x) for x in row_1])\n",
    "cell_text.append([int(x) for x in row_2])\n",
    "\n",
    "# Reverse colors and text labels to display the last value at the top.\n",
    "\n",
    "#cell_text.reverse()\n",
    "\n",
    "# Add a table at the bottom of the axes\n",
    "the_table = axs.table(cellText=cell_text,\n",
    "                      rowLabels=rows,\n",
    "                      rowColours=colors,\n",
    "                      colLabels=columns,\n",
    "                      colColours=[\"#bd1313\", \"#00752d\"],\n",
    "                      cellColours=[[\"#0e2058\", \"#0e2058\"],[\"#0e2058\", \"#0e2058\"]],\n",
    "                      loc='bottom',\n",
    "                      colLoc=\"center\",\n",
    "                      cellLoc=\"center\",\n",
    "                      edges=\"closed\")\n",
    "\n",
    "for key, cell in the_table.get_celld().items():\n",
    "    cell.set_edgecolor(\"w\")\n",
    "\n",
    "# # Adjust layout to make room for the table:\n",
    "plt.subplots_adjust(left=0.15, bottom=1, top=2)\n",
    "\n",
    "plt.ylabel(\"(Not) allowed notifications\")\n",
    "plt.xticks([])\n",
    "\n",
    "pretty_plot(url=\"https://encrypted-tbn0.gstatic.com/images?q=tbn%3AANd9GcQMiRSbFq9LRH9VcAmDRC588Iqtsn1g84ia9Q&usqp=CAU\")"
   ]
  },
  {
   "cell_type": "markdown",
   "metadata": {},
   "source": [
    "##### Calculate test statistic"
   ]
  },
  {
   "cell_type": "markdown",
   "metadata": {},
   "source": [
    "Test with significance level $\\alpha$ of null hypothesis that events $A_{i}$ and $B_{j}$ $(i=1,...,v; j=1,...,k)$ are independent:<br>\n",
    "If following statistics \n",
    "\\begin{equation*}\n",
    "\\chi^2 = \\sum \\limits _{i=1}^{v} \\sum \\limits _{j=1}^{k} \\frac {\\left(f_{ij}-\\frac {a_{i}b_{j}}{n}\\right)^2}{\\frac {a_{i}b_{j}}{n}}\n",
    "\\end{equation*}\n",
    "is greater than 1-$\\alpha$ quantile of distribution $\\chi^2((v-1)(k-1))$, null hypothesis is rejected.\n",
    "\n",
    "<br><br>\n",
    "&emsp;&emsp;&emsp;&emsp;&emsp;&emsp;&emsp;&emsp;&emsp;&emsp;&emsp;&emsp;&emsp;&emsp;&emsp;&emsp;&emsp;&emsp;&emsp;&emsp;&emsp;&emsp;&emsp;&emsp;&emsp;&emsp;&emsp; _Probability and statistics_,\n",
    "   _Milan Merkle (2016)_ "
   ]
  },
  {
   "cell_type": "code",
   "execution_count": 37,
   "metadata": {
    "ExecuteTime": {
     "end_time": "2020-09-16T19:58:54.245049Z",
     "start_time": "2020-09-16T19:58:54.235450Z"
    }
   },
   "outputs": [
    {
     "name": "stdout",
     "output_type": "stream",
     "text": [
      "Chi-squared statistic has value of 9.502.\n"
     ]
    }
   ],
   "source": [
    "chisq_cal = sum([((cont_table_observed[0][0] - cont_table_expected[0][0]) ** 2 \\\n",
    "                  / cont_table_expected[0][0]), \n",
    "    ((cont_table_observed[0][1] - cont_table_expected[0][1]) ** 2 / cont_table_expected[0][1]), \n",
    "    ((cont_table_observed[1][0] - cont_table_expected[1][0]) ** 2 / cont_table_expected[1][0]), \n",
    "    ((cont_table_observed[1][1] - cont_table_expected[1][1]) ** 2 / cont_table_expected[1][1])])\n",
    "\n",
    "print(f\"Chi-squared statistic has value of {round(chisq_cal, 3)}.\")"
   ]
  },
  {
   "cell_type": "markdown",
   "metadata": {},
   "source": [
    "$\\chi^2$ distribution is a non-symmetric distribution. When degrees of freedom increase, the $\\chi^2$ curve approaches a normal distribution. To find the critical value, we need to specify the corresponding degrees of freedom, given by:\n",
    "\n",
    "                         dof = (v - 1) * (k - 1),\n",
    "                         \n",
    "where `v` is the number of rows and `k` is the number of columns in the contingency table."
   ]
  },
  {
   "cell_type": "markdown",
   "metadata": {},
   "source": [
    "##### Calculate degrees of fredoom"
   ]
  },
  {
   "cell_type": "code",
   "execution_count": 38,
   "metadata": {
    "ExecuteTime": {
     "end_time": "2020-09-16T19:58:57.482633Z",
     "start_time": "2020-09-16T19:58:57.471985Z"
    }
   },
   "outputs": [
    {
     "name": "stdout",
     "output_type": "stream",
     "text": [
      "We have 1 degree of freedom.\n"
     ]
    }
   ],
   "source": [
    "dof = (len(cont_table_observed) - 1) * (len(cont_table_observed[0]) - 1)\n",
    "\n",
    "if dof > 1:\n",
    "    word = \"degrees\"\n",
    "else:\n",
    "    word = \"degree\"\n",
    "    \n",
    "print(f\"We have {dof} {word} of freedom.\") "
   ]
  },
  {
   "cell_type": "markdown",
   "metadata": {},
   "source": [
    "##### Derive the critical value"
   ]
  },
  {
   "cell_type": "code",
   "execution_count": 39,
   "metadata": {
    "ExecuteTime": {
     "end_time": "2020-09-16T19:59:05.033005Z",
     "start_time": "2020-09-16T19:59:05.027673Z"
    }
   },
   "outputs": [
    {
     "name": "stdout",
     "output_type": "stream",
     "text": [
      "Critical value: 3.841.\n",
      "The calculated test statistic is higher than the critical value.\n"
     ]
    }
   ],
   "source": [
    "chisq_crit = stats.chi2.ppf(0.95, dof)\n",
    "print(f\"Critical value: {round(chisq_crit, 3)}.\")\n",
    "\n",
    "if chisq_cal > chisq_crit:\n",
    "    print(\"The calculated test statistic is higher than the critical value.\")\n",
    "else:\n",
    "    print(\"The calculated test statistic is lower than the critical value.\")"
   ]
  },
  {
   "cell_type": "markdown",
   "metadata": {},
   "source": [
    "##### Compute the p-value"
   ]
  },
  {
   "cell_type": "code",
   "execution_count": 21,
   "metadata": {
    "ExecuteTime": {
     "end_time": "2020-09-16T19:42:47.249423Z",
     "start_time": "2020-09-16T19:42:47.244191Z"
    }
   },
   "outputs": [
    {
     "name": "stdout",
     "output_type": "stream",
     "text": [
      "p-value is 0.00205.\n"
     ]
    }
   ],
   "source": [
    "p_val = 1 - stats.chi2.cdf(chisq_cal, dof)\n",
    "\n",
    "print(f\"p-value is {round(p_val, 5)}.\") "
   ]
  },
  {
   "cell_type": "markdown",
   "metadata": {},
   "source": [
    "##### Verify this results with `chi2_contingency` method"
   ]
  },
  {
   "cell_type": "code",
   "execution_count": 22,
   "metadata": {
    "ExecuteTime": {
     "end_time": "2020-09-16T19:42:47.457449Z",
     "start_time": "2020-09-16T19:42:47.449984Z"
    }
   },
   "outputs": [
    {
     "name": "stdout",
     "output_type": "stream",
     "text": [
      "Chi-squared statistic: 9.524\n",
      "p-value: 0.00203\n",
      "Degrees of freedom: 1\n",
      "Expected contigency table: \n",
      " [[1008. 1479.]\n",
      " [ 556.  816.]]\n"
     ]
    }
   ],
   "source": [
    "chi_squared, p_val, dof, expected = stats.chi2_contingency(cont_table_observed, correction=False)\n",
    "\n",
    "print(f\"Chi-squared statistic: {round(chi_squared, 3)}\")\n",
    "print(f\"p-value: {round(p_val, 5)}\")\n",
    "print(f\"Degrees of freedom: {dof}\")\n",
    "print(f\"Expected contigency table: \\n {np.round(expected)}\")"
   ]
  },
  {
   "cell_type": "markdown",
   "metadata": {},
   "source": [
    "Since the p-value is smaller than 0.05 (i.e., the calculated test statistic is larger \n",
    "than the critical value), we reject null hypothesis that the two groups are independent."
   ]
  },
  {
   "cell_type": "markdown",
   "metadata": {},
   "source": [
    "__Note:__ The `correction = FALSE` argument above ensures that the test statistic is computed in the same way as we have done by manually above. By default, `chisq.chi2_contingency()` applies a correction to prevent overestimation of statistical significance for small data \n",
    "(called the `Yates’` correction). The correction is implemented by subtracting the value 0.5 \n",
    "from the computed difference between the observed and expected cell counts in the numerator \n",
    "of the test statistic. This means that the calculated test statistic will be smaller (i.e., more conservative). Although the adjustment may go too far in some instances, so we should generally rely on the adjusted results."
   ]
  },
  {
   "cell_type": "code",
   "execution_count": 23,
   "metadata": {
    "ExecuteTime": {
     "end_time": "2020-09-16T19:42:47.854376Z",
     "start_time": "2020-09-16T19:42:47.847084Z"
    }
   },
   "outputs": [
    {
     "name": "stdout",
     "output_type": "stream",
     "text": [
      "Chi-squared statistic: 9.314\n",
      "p-value: 0.00227\n",
      "Degrees of freedom: 1\n",
      "Expected contigency table: \n",
      " [[1008. 1479.]\n",
      " [ 556.  816.]]\n"
     ]
    }
   ],
   "source": [
    "chi_squared, p_val, dof, expected = stats.chi2_contingency(cont_table_observed, correction=True)\n",
    "print(f\"Chi-squared statistic: {round(chi_squared, 3)}\")\n",
    "print(f\"p-value: {round(p_val, 5)}\")\n",
    "print(f\"Degrees of freedom: {dof}\")\n",
    "print(f\"Expected contigency table: \\n {np.round(expected)}\")"
   ]
  },
  {
   "cell_type": "markdown",
   "metadata": {},
   "source": [
    "As we can see, the results don’t change much in our example, since the differences between the observed and expected cell frequencies are fairly large relative to the correction.\n",
    "Caution is warranted when the cell counts in the contingency table are small."
   ]
  },
  {
   "cell_type": "markdown",
   "metadata": {},
   "source": [
    "It is known that test statistic is sensitive to the sample size. \n",
    "Let's compute a measure of the effect size, which is insensitive to sample size.\n",
    "\n",
    "This is used to determine the magnitude of the effect size (_Cohen, 1988_):\n",
    "\n",
    "- 0.1 (small effect)\n",
    "\n",
    "- 0.3 (medium effect)\n",
    "\n",
    "- 0.5 (large effect)"
   ]
  },
  {
   "cell_type": "markdown",
   "metadata": {},
   "source": [
    "##### Compute the magnitude of the effect size"
   ]
  },
  {
   "cell_type": "code",
   "execution_count": 24,
   "metadata": {
    "ExecuteTime": {
     "end_time": "2020-09-16T19:42:48.462348Z",
     "start_time": "2020-09-16T19:42:48.457475Z"
    }
   },
   "outputs": [
    {
     "name": "stdout",
     "output_type": "stream",
     "text": [
      "The magnitude of the effect size is 0.049.\n"
     ]
    }
   ],
   "source": [
    "d = np.sqrt(chi_squared / total_count)\n",
    "print(f\"The magnitude of the effect size is {round(d, 3)}.\")"
   ]
  },
  {
   "cell_type": "markdown",
   "metadata": {},
   "source": [
    "#### Fisher's exact test"
   ]
  },
  {
   "cell_type": "markdown",
   "metadata": {},
   "source": [
    "When some cell counts are too small, we can use Fisher’s exact test. Fisher’s exact test is\n",
    "accurate at all sizes and the $\\chi^2$ test converges to it at high sizes.\n",
    "\n",
    "Fisher's exact test (the scipy.stats library implementation) only works on 2x2 contingency tables. That's enough for our task."
   ]
  },
  {
   "cell_type": "code",
   "execution_count": 25,
   "metadata": {
    "ExecuteTime": {
     "end_time": "2020-09-16T19:42:49.569132Z",
     "start_time": "2020-09-16T19:42:49.145879Z"
    }
   },
   "outputs": [
    {
     "name": "stdout",
     "output_type": "stream",
     "text": [
      "p-value is 0.00205.\n"
     ]
    }
   ],
   "source": [
    "oddsratio, p_value = stats.fisher_exact(cont_table_observed)\n",
    "print(f\"p-value is {round(p_value, 5)}.\")"
   ]
  },
  {
   "cell_type": "markdown",
   "metadata": {},
   "source": [
    "The Fisher test, while more conservative, also shows a significant difference between the proportions (p < 0.05). This is not surprising since the cell counts in our example are fairly large"
   ]
  },
  {
   "cell_type": "markdown",
   "metadata": {},
   "source": [
    "## Conclusion"
   ]
  },
  {
   "cell_type": "markdown",
   "metadata": {},
   "source": [
    "Users who have completed the tutorial are more likely to allow notifications than users who have not. The tutorial consists of five battles, so some users maybe don't have enough patience and initial passion for the game. Compromise may be the solution. Is 5 optimal number for battles, or maybe tutorial should count less number of battles, i.e. 4 or 3? This question is for game developers, also. <br><br>\n",
    "In the end, when hit rate is considered, it's better to ask users to allow notifications after they have complete the tutorial. "
   ]
  },
  {
   "cell_type": "code",
   "execution_count": null,
   "metadata": {},
   "outputs": [],
   "source": []
  }
 ],
 "metadata": {
  "kernelspec": {
   "display_name": "Python 3",
   "language": "python",
   "name": "python3"
  },
  "language_info": {
   "codemirror_mode": {
    "name": "ipython",
    "version": 3
   },
   "file_extension": ".py",
   "mimetype": "text/x-python",
   "name": "python",
   "nbconvert_exporter": "python",
   "pygments_lexer": "ipython3",
   "version": "3.7.3"
  },
  "latex_envs": {
   "LaTeX_envs_menu_present": true,
   "autoclose": false,
   "autocomplete": true,
   "bibliofile": "biblio.bib",
   "cite_by": "apalike",
   "current_citInitial": 1,
   "eqLabelWithNumbers": true,
   "eqNumInitial": 1,
   "hotkeys": {
    "equation": "Ctrl-E",
    "itemize": "Ctrl-I"
   },
   "labels_anchors": false,
   "latex_user_defs": false,
   "report_style_numbering": false,
   "user_envs_cfg": false
  },
  "toc": {
   "base_numbering": 1,
   "nav_menu": {},
   "number_sections": true,
   "sideBar": true,
   "skip_h1_title": true,
   "title_cell": "Table of Contents",
   "title_sidebar": "Contents",
   "toc_cell": true,
   "toc_position": {},
   "toc_section_display": true,
   "toc_window_display": true
  },
  "varInspector": {
   "cols": {
    "lenName": 16,
    "lenType": 16,
    "lenVar": 40
   },
   "kernels_config": {
    "python": {
     "delete_cmd_postfix": "",
     "delete_cmd_prefix": "del ",
     "library": "var_list.py",
     "varRefreshCmd": "print(var_dic_list())"
    },
    "r": {
     "delete_cmd_postfix": ") ",
     "delete_cmd_prefix": "rm(",
     "library": "var_list.r",
     "varRefreshCmd": "cat(var_dic_list()) "
    }
   },
   "types_to_exclude": [
    "module",
    "function",
    "builtin_function_or_method",
    "instance",
    "_Feature"
   ],
   "window_display": false
  }
 },
 "nbformat": 4,
 "nbformat_minor": 4
}
